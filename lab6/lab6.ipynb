{
 "cells": [
  {
   "attachments": {},
   "cell_type": "markdown",
   "metadata": {},
   "source": [
    "# Lab 6 - Model comparison"
   ]
  },
  {
   "cell_type": "code",
   "execution_count": 1,
   "metadata": {},
   "outputs": [
    {
     "name": "stderr",
     "output_type": "stream",
     "text": [
      "/usr/local/lib/python3.9/site-packages/tqdm/auto.py:22: TqdmWarning: IProgress not found. Please update jupyter and ipywidgets. See https://ipywidgets.readthedocs.io/en/stable/user_install.html\n",
      "  from .autonotebook import tqdm as notebook_tqdm\n"
     ]
    }
   ],
   "source": [
    "from cmdstanpy import CmdStanModel\n",
    "\n",
    "\n",
    "import arviz as az\n",
    "import numpy as np\n",
    "import scipy.stats as stats\n",
    "\n",
    "import matplotlib.pyplot as plt\n",
    "import pandas as pd\n",
    "import seaborn as sns"
   ]
  },
  {
   "cell_type": "code",
   "execution_count": 19,
   "metadata": {},
   "outputs": [],
   "source": [
    "F = len('Arkadiusz')\n",
    "L = len('Kontek')\n",
    "N = (L + F) * 100"
   ]
  },
  {
   "attachments": {},
   "cell_type": "markdown",
   "metadata": {},
   "source": [
    "# Excercise 1 - generate data"
   ]
  },
  {
   "cell_type": "code",
   "execution_count": 3,
   "metadata": {},
   "outputs": [
    {
     "name": "stderr",
     "output_type": "stream",
     "text": [
      "INFO:cmdstanpy:found newer exe file, not recompiling\n",
      "INFO:cmdstanpy:found newer exe file, not recompiling\n"
     ]
    }
   ],
   "source": [
    "model_1 = CmdStanModel(stan_file='code_1.stan')\n",
    "model_2 = CmdStanModel(stan_file='code_2.stan')"
   ]
  },
  {
   "cell_type": "code",
   "execution_count": 22,
   "metadata": {},
   "outputs": [
    {
     "name": "stderr",
     "output_type": "stream",
     "text": [
      "INFO:cmdstanpy:CmdStan start processing\n",
      "chain 1 |\u001b[34m██████████\u001b[0m| 00:00 Sampling completed"
     ]
    },
    {
     "name": "stdout",
     "output_type": "stream",
     "text": [
      "                                                                                "
     ]
    },
    {
     "name": "stderr",
     "output_type": "stream",
     "text": [
      "\n",
      "INFO:cmdstanpy:CmdStan done processing.\n",
      "INFO:cmdstanpy:CmdStan start processing\n"
     ]
    },
    {
     "name": "stdout",
     "output_type": "stream",
     "text": [
      "\n"
     ]
    },
    {
     "name": "stderr",
     "output_type": "stream",
     "text": [
      "chain 1 |\u001b[34m██████████\u001b[0m| 00:00 Sampling completed"
     ]
    },
    {
     "name": "stdout",
     "output_type": "stream",
     "text": [
      "                                                                                "
     ]
    },
    {
     "name": "stderr",
     "output_type": "stream",
     "text": [
      "\n",
      "INFO:cmdstanpy:CmdStan done processing.\n"
     ]
    },
    {
     "name": "stdout",
     "output_type": "stream",
     "text": [
      "\n"
     ]
    }
   ],
   "source": [
    "data_sim = {'N':N}\n",
    "sim_1 = model_1.sample(data=data_sim, seed=28052020, iter_sampling=1, iter_warmup=0, chains=1)\n",
    "sim_2 = model_2.sample(data=data_sim, seed=28052020, iter_sampling=1, iter_warmup=0, chains=1)"
   ]
  },
  {
   "cell_type": "code",
   "execution_count": 23,
   "metadata": {},
   "outputs": [
    {
     "data": {
      "text/html": [
       "<div>\n",
       "<style scoped>\n",
       "    .dataframe tbody tr th:only-of-type {\n",
       "        vertical-align: middle;\n",
       "    }\n",
       "\n",
       "    .dataframe tbody tr th {\n",
       "        vertical-align: top;\n",
       "    }\n",
       "\n",
       "    .dataframe thead th {\n",
       "        text-align: right;\n",
       "    }\n",
       "</style>\n",
       "<table border=\"1\" class=\"dataframe\">\n",
       "  <thead>\n",
       "    <tr style=\"text-align: right;\">\n",
       "      <th></th>\n",
       "      <th>lp__</th>\n",
       "      <th>accept_stat__</th>\n",
       "      <th>theta</th>\n",
       "      <th>y[1]</th>\n",
       "      <th>y[2]</th>\n",
       "      <th>y[3]</th>\n",
       "      <th>y[4]</th>\n",
       "      <th>y[5]</th>\n",
       "      <th>y[6]</th>\n",
       "      <th>y[7]</th>\n",
       "      <th>...</th>\n",
       "      <th>y[1491]</th>\n",
       "      <th>y[1492]</th>\n",
       "      <th>y[1493]</th>\n",
       "      <th>y[1494]</th>\n",
       "      <th>y[1495]</th>\n",
       "      <th>y[1496]</th>\n",
       "      <th>y[1497]</th>\n",
       "      <th>y[1498]</th>\n",
       "      <th>y[1499]</th>\n",
       "      <th>y[1500]</th>\n",
       "    </tr>\n",
       "  </thead>\n",
       "  <tbody>\n",
       "    <tr>\n",
       "      <th>0</th>\n",
       "      <td>0.0</td>\n",
       "      <td>0.0</td>\n",
       "      <td>0.01</td>\n",
       "      <td>0.014992</td>\n",
       "      <td>-0.673934</td>\n",
       "      <td>0.833857</td>\n",
       "      <td>-0.296466</td>\n",
       "      <td>1.75419</td>\n",
       "      <td>-0.509558</td>\n",
       "      <td>-0.003239</td>\n",
       "      <td>...</td>\n",
       "      <td>1.60626</td>\n",
       "      <td>0.275185</td>\n",
       "      <td>1.20722</td>\n",
       "      <td>0.317184</td>\n",
       "      <td>0.231445</td>\n",
       "      <td>-1.08811</td>\n",
       "      <td>0.450217</td>\n",
       "      <td>-0.028646</td>\n",
       "      <td>1.72558</td>\n",
       "      <td>0.205512</td>\n",
       "    </tr>\n",
       "  </tbody>\n",
       "</table>\n",
       "<p>1 rows × 1503 columns</p>\n",
       "</div>"
      ],
      "text/plain": [
       "   lp__  accept_stat__  theta      y[1]      y[2]      y[3]      y[4]  \\\n",
       "0   0.0            0.0   0.01  0.014992 -0.673934  0.833857 -0.296466   \n",
       "\n",
       "      y[5]      y[6]      y[7]  ...  y[1491]   y[1492]  y[1493]   y[1494]  \\\n",
       "0  1.75419 -0.509558 -0.003239  ...  1.60626  0.275185  1.20722  0.317184   \n",
       "\n",
       "    y[1495]  y[1496]   y[1497]   y[1498]  y[1499]   y[1500]  \n",
       "0  0.231445 -1.08811  0.450217 -0.028646  1.72558  0.205512  \n",
       "\n",
       "[1 rows x 1503 columns]"
      ]
     },
     "execution_count": 23,
     "metadata": {},
     "output_type": "execute_result"
    }
   ],
   "source": [
    "d_1 = sim_1.draws_pd()\n",
    "d_1.head()"
   ]
  },
  {
   "cell_type": "code",
   "execution_count": 24,
   "metadata": {},
   "outputs": [
    {
     "data": {
      "text/html": [
       "<div>\n",
       "<style scoped>\n",
       "    .dataframe tbody tr th:only-of-type {\n",
       "        vertical-align: middle;\n",
       "    }\n",
       "\n",
       "    .dataframe tbody tr th {\n",
       "        vertical-align: top;\n",
       "    }\n",
       "\n",
       "    .dataframe thead th {\n",
       "        text-align: right;\n",
       "    }\n",
       "</style>\n",
       "<table border=\"1\" class=\"dataframe\">\n",
       "  <thead>\n",
       "    <tr style=\"text-align: right;\">\n",
       "      <th></th>\n",
       "      <th>lp__</th>\n",
       "      <th>accept_stat__</th>\n",
       "      <th>X[1,1]</th>\n",
       "      <th>X[2,1]</th>\n",
       "      <th>X[3,1]</th>\n",
       "      <th>X[4,1]</th>\n",
       "      <th>X[5,1]</th>\n",
       "      <th>X[6,1]</th>\n",
       "      <th>X[7,1]</th>\n",
       "      <th>X[8,1]</th>\n",
       "      <th>...</th>\n",
       "      <th>y[1491]</th>\n",
       "      <th>y[1492]</th>\n",
       "      <th>y[1493]</th>\n",
       "      <th>y[1494]</th>\n",
       "      <th>y[1495]</th>\n",
       "      <th>y[1496]</th>\n",
       "      <th>y[1497]</th>\n",
       "      <th>y[1498]</th>\n",
       "      <th>y[1499]</th>\n",
       "      <th>y[1500]</th>\n",
       "    </tr>\n",
       "  </thead>\n",
       "  <tbody>\n",
       "    <tr>\n",
       "      <th>0</th>\n",
       "      <td>0.0</td>\n",
       "      <td>0.0</td>\n",
       "      <td>0.014992</td>\n",
       "      <td>-0.763171</td>\n",
       "      <td>1.08725</td>\n",
       "      <td>-1.18414</td>\n",
       "      <td>-0.296466</td>\n",
       "      <td>1.75419</td>\n",
       "      <td>-0.509558</td>\n",
       "      <td>-0.003239</td>\n",
       "      <td>...</td>\n",
       "      <td>0.455432</td>\n",
       "      <td>3.81133</td>\n",
       "      <td>-1.67251</td>\n",
       "      <td>5.16234</td>\n",
       "      <td>0.871883</td>\n",
       "      <td>1.6163</td>\n",
       "      <td>-5.27301</td>\n",
       "      <td>-0.621309</td>\n",
       "      <td>1.37687</td>\n",
       "      <td>0.850647</td>\n",
       "    </tr>\n",
       "  </tbody>\n",
       "</table>\n",
       "<p>1 rows × 6005 columns</p>\n",
       "</div>"
      ],
      "text/plain": [
       "   lp__  accept_stat__    X[1,1]    X[2,1]   X[3,1]   X[4,1]    X[5,1]  \\\n",
       "0   0.0            0.0  0.014992 -0.763171  1.08725 -1.18414 -0.296466   \n",
       "\n",
       "    X[6,1]    X[7,1]    X[8,1]  ...   y[1491]  y[1492]  y[1493]  y[1494]  \\\n",
       "0  1.75419 -0.509558 -0.003239  ...  0.455432  3.81133 -1.67251  5.16234   \n",
       "\n",
       "    y[1495]  y[1496]  y[1497]   y[1498]  y[1499]   y[1500]  \n",
       "0  0.871883   1.6163 -5.27301 -0.621309  1.37687  0.850647  \n",
       "\n",
       "[1 rows x 6005 columns]"
      ]
     },
     "execution_count": 24,
     "metadata": {},
     "output_type": "execute_result"
    }
   ],
   "source": [
    "d_2 = sim_2.draws_pd()\n",
    "d_2.head()"
   ]
  },
  {
   "attachments": {},
   "cell_type": "markdown",
   "metadata": {},
   "source": [
    "# Excercise 2 - compare normal and student models for data from first file"
   ]
  },
  {
   "cell_type": "code",
   "execution_count": 25,
   "metadata": {},
   "outputs": [
    {
     "name": "stderr",
     "output_type": "stream",
     "text": [
      "INFO:cmdstanpy:found newer exe file, not recompiling\n",
      "INFO:cmdstanpy:found newer exe file, not recompiling\n"
     ]
    }
   ],
   "source": [
    "model_3 = CmdStanModel(stan_file='code_3.stan')\n",
    "model_4 = CmdStanModel(stan_file='code_4.stan')"
   ]
  },
  {
   "cell_type": "code",
   "execution_count": 26,
   "metadata": {},
   "outputs": [],
   "source": [
    "data_sim_3 = {'N':N, 'y': d_1.loc[:, 'y[1]': f'y[{N}]'].values.reshape((N,))}\n",
    "data_sim_4 = {'N':N, 'y': d_2.loc[:, 'y[1]': f'y[{N}]'].values.reshape((N,))}"
   ]
  },
  {
   "cell_type": "code",
   "execution_count": 28,
   "metadata": {},
   "outputs": [
    {
     "name": "stderr",
     "output_type": "stream",
     "text": [
      "INFO:cmdstanpy:CmdStan start processing\n",
      "chain 1 |\u001b[33m          \u001b[0m| 00:00 Status\n",
      "\u001b[A\n",
      "\n",
      "chain 1 |\u001b[34m█████▉    \u001b[0m| 00:00 Iteration: 1001 / 2000 [ 50%]  (Sampling)\n",
      "\u001b[A\n",
      "\n",
      "chain 1 |\u001b[34m█████████▌\u001b[0m| 00:01 Iteration: 1800 / 2000 [ 90%]  (Sampling)\n",
      "\u001b[A\n",
      "\n",
      "chain 1 |\u001b[34m██████████\u001b[0m| 00:01 Sampling completed                       \n",
      "chain 2 |\u001b[34m██████████\u001b[0m| 00:01 Sampling completed                       \n",
      "chain 3 |\u001b[34m██████████\u001b[0m| 00:01 Sampling completed                       \n",
      "chain 4 |\u001b[34m██████████\u001b[0m| 00:01 Sampling completed                       "
     ]
    },
    {
     "name": "stdout",
     "output_type": "stream",
     "text": [
      "                                                                                                                                                                                                                                                                                                                                "
     ]
    },
    {
     "name": "stderr",
     "output_type": "stream",
     "text": [
      "\n",
      "INFO:cmdstanpy:CmdStan done processing.\n"
     ]
    },
    {
     "name": "stdout",
     "output_type": "stream",
     "text": [
      "\n"
     ]
    },
    {
     "name": "stderr",
     "output_type": "stream",
     "text": [
      "INFO:cmdstanpy:CmdStan start processing\n",
      "chain 1 |\u001b[33m          \u001b[0m| 00:00 Status\n",
      "\u001b[A\n",
      "\n",
      "\u001b[A\u001b[A\n",
      "chain 1 |\u001b[33m██▎       \u001b[0m| 00:00 Iteration:  300 / 2000 [ 15%]  (Warmup)\n",
      "\n",
      "chain 1 |\u001b[34m█████▉    \u001b[0m| 00:00 Iteration: 1001 / 2000 [ 50%]  (Sampling)\n",
      "\u001b[A\n",
      "\n",
      "chain 1 |\u001b[34m███████▋  \u001b[0m| 00:00 Iteration: 1400 / 2000 [ 70%]  (Sampling)\n",
      "\u001b[A\n",
      "\n",
      "chain 1 |\u001b[34m█████████ \u001b[0m| 00:01 Iteration: 1700 / 2000 [ 85%]  (Sampling)\n",
      "\n",
      "\u001b[A\u001b[A\n",
      "chain 1 |\u001b[34m██████████\u001b[0m| 00:01 Iteration: 1900 / 2000 [ 95%]  (Sampling)\n",
      "\n",
      "\u001b[A\u001b[A\n",
      "chain 1 |\u001b[34m██████████\u001b[0m| 00:01 Sampling completed                       \n",
      "chain 2 |\u001b[34m██████████\u001b[0m| 00:01 Sampling completed                       \n",
      "chain 3 |\u001b[34m██████████\u001b[0m| 00:01 Sampling completed                       \n",
      "chain 4 |\u001b[34m██████████\u001b[0m| 00:01 Sampling completed                       "
     ]
    },
    {
     "name": "stdout",
     "output_type": "stream",
     "text": [
      "                                                                                                                                                                                                                                                                                                                                "
     ]
    },
    {
     "name": "stderr",
     "output_type": "stream",
     "text": [
      "\n",
      "INFO:cmdstanpy:CmdStan done processing.\n"
     ]
    },
    {
     "name": "stdout",
     "output_type": "stream",
     "text": [
      "\n"
     ]
    }
   ],
   "source": [
    "sim_3 = model_3.sample(data=data_sim_3, seed=28052020)\n",
    "sim_4 = model_4.sample(data=data_sim_4, seed=28052020)"
   ]
  },
  {
   "cell_type": "code",
   "execution_count": 29,
   "metadata": {},
   "outputs": [
    {
     "data": {
      "text/html": [
       "<div>\n",
       "<style scoped>\n",
       "    .dataframe tbody tr th:only-of-type {\n",
       "        vertical-align: middle;\n",
       "    }\n",
       "\n",
       "    .dataframe tbody tr th {\n",
       "        vertical-align: top;\n",
       "    }\n",
       "\n",
       "    .dataframe thead th {\n",
       "        text-align: right;\n",
       "    }\n",
       "</style>\n",
       "<table border=\"1\" class=\"dataframe\">\n",
       "  <thead>\n",
       "    <tr style=\"text-align: right;\">\n",
       "      <th></th>\n",
       "      <th>lp__</th>\n",
       "      <th>accept_stat__</th>\n",
       "      <th>stepsize__</th>\n",
       "      <th>treedepth__</th>\n",
       "      <th>n_leapfrog__</th>\n",
       "      <th>divergent__</th>\n",
       "      <th>energy__</th>\n",
       "      <th>sigma</th>\n",
       "      <th>mu</th>\n",
       "      <th>log_lik[1]</th>\n",
       "      <th>...</th>\n",
       "      <th>y_hat[1491]</th>\n",
       "      <th>y_hat[1492]</th>\n",
       "      <th>y_hat[1493]</th>\n",
       "      <th>y_hat[1494]</th>\n",
       "      <th>y_hat[1495]</th>\n",
       "      <th>y_hat[1496]</th>\n",
       "      <th>y_hat[1497]</th>\n",
       "      <th>y_hat[1498]</th>\n",
       "      <th>y_hat[1499]</th>\n",
       "      <th>y_hat[1500]</th>\n",
       "    </tr>\n",
       "  </thead>\n",
       "  <tbody>\n",
       "    <tr>\n",
       "      <th>0</th>\n",
       "      <td>-2643.26</td>\n",
       "      <td>0.872849</td>\n",
       "      <td>0.984053</td>\n",
       "      <td>1.0</td>\n",
       "      <td>1.0</td>\n",
       "      <td>0.0</td>\n",
       "      <td>2643.27</td>\n",
       "      <td>1.38023</td>\n",
       "      <td>0.090274</td>\n",
       "      <td>-1.24268</td>\n",
       "      <td>...</td>\n",
       "      <td>-2.501590</td>\n",
       "      <td>-0.145244</td>\n",
       "      <td>0.478559</td>\n",
       "      <td>1.068030</td>\n",
       "      <td>-0.444003</td>\n",
       "      <td>-0.685142</td>\n",
       "      <td>0.581127</td>\n",
       "      <td>-2.553420</td>\n",
       "      <td>1.465520</td>\n",
       "      <td>-1.066990</td>\n",
       "    </tr>\n",
       "    <tr>\n",
       "      <th>1</th>\n",
       "      <td>-2644.88</td>\n",
       "      <td>0.495673</td>\n",
       "      <td>0.984053</td>\n",
       "      <td>2.0</td>\n",
       "      <td>3.0</td>\n",
       "      <td>0.0</td>\n",
       "      <td>2648.53</td>\n",
       "      <td>1.45285</td>\n",
       "      <td>0.180770</td>\n",
       "      <td>-1.29897</td>\n",
       "      <td>...</td>\n",
       "      <td>-0.099681</td>\n",
       "      <td>-0.369707</td>\n",
       "      <td>-1.942630</td>\n",
       "      <td>-0.317986</td>\n",
       "      <td>0.886325</td>\n",
       "      <td>1.777810</td>\n",
       "      <td>0.624710</td>\n",
       "      <td>-2.624180</td>\n",
       "      <td>-0.862788</td>\n",
       "      <td>0.257029</td>\n",
       "    </tr>\n",
       "    <tr>\n",
       "      <th>2</th>\n",
       "      <td>-2644.83</td>\n",
       "      <td>0.964385</td>\n",
       "      <td>0.984053</td>\n",
       "      <td>2.0</td>\n",
       "      <td>3.0</td>\n",
       "      <td>0.0</td>\n",
       "      <td>2646.56</td>\n",
       "      <td>1.36261</td>\n",
       "      <td>0.074500</td>\n",
       "      <td>-1.22929</td>\n",
       "      <td>...</td>\n",
       "      <td>1.994440</td>\n",
       "      <td>0.225706</td>\n",
       "      <td>-0.919658</td>\n",
       "      <td>-1.253870</td>\n",
       "      <td>-0.337841</td>\n",
       "      <td>-1.546880</td>\n",
       "      <td>0.361574</td>\n",
       "      <td>-0.911629</td>\n",
       "      <td>-0.264605</td>\n",
       "      <td>-1.204030</td>\n",
       "    </tr>\n",
       "    <tr>\n",
       "      <th>3</th>\n",
       "      <td>-2644.78</td>\n",
       "      <td>1.000000</td>\n",
       "      <td>0.984053</td>\n",
       "      <td>2.0</td>\n",
       "      <td>3.0</td>\n",
       "      <td>0.0</td>\n",
       "      <td>2645.41</td>\n",
       "      <td>1.36578</td>\n",
       "      <td>0.070126</td>\n",
       "      <td>-1.23148</td>\n",
       "      <td>...</td>\n",
       "      <td>0.858163</td>\n",
       "      <td>-1.931000</td>\n",
       "      <td>1.500740</td>\n",
       "      <td>1.023970</td>\n",
       "      <td>-1.281010</td>\n",
       "      <td>0.615988</td>\n",
       "      <td>1.724110</td>\n",
       "      <td>1.185900</td>\n",
       "      <td>1.827580</td>\n",
       "      <td>0.856679</td>\n",
       "    </tr>\n",
       "    <tr>\n",
       "      <th>4</th>\n",
       "      <td>-2642.71</td>\n",
       "      <td>0.969326</td>\n",
       "      <td>0.984053</td>\n",
       "      <td>2.0</td>\n",
       "      <td>3.0</td>\n",
       "      <td>0.0</td>\n",
       "      <td>2645.38</td>\n",
       "      <td>1.42314</td>\n",
       "      <td>0.095054</td>\n",
       "      <td>-1.27339</td>\n",
       "      <td>...</td>\n",
       "      <td>0.802949</td>\n",
       "      <td>-0.488923</td>\n",
       "      <td>-0.001912</td>\n",
       "      <td>-0.189812</td>\n",
       "      <td>-1.320940</td>\n",
       "      <td>-3.783970</td>\n",
       "      <td>-0.909650</td>\n",
       "      <td>0.177514</td>\n",
       "      <td>-1.217240</td>\n",
       "      <td>-3.853660</td>\n",
       "    </tr>\n",
       "  </tbody>\n",
       "</table>\n",
       "<p>5 rows × 3009 columns</p>\n",
       "</div>"
      ],
      "text/plain": [
       "      lp__  accept_stat__  stepsize__  treedepth__  n_leapfrog__  divergent__  \\\n",
       "0 -2643.26       0.872849    0.984053          1.0           1.0          0.0   \n",
       "1 -2644.88       0.495673    0.984053          2.0           3.0          0.0   \n",
       "2 -2644.83       0.964385    0.984053          2.0           3.0          0.0   \n",
       "3 -2644.78       1.000000    0.984053          2.0           3.0          0.0   \n",
       "4 -2642.71       0.969326    0.984053          2.0           3.0          0.0   \n",
       "\n",
       "   energy__    sigma        mu  log_lik[1]  ...  y_hat[1491]  y_hat[1492]  \\\n",
       "0   2643.27  1.38023  0.090274    -1.24268  ...    -2.501590    -0.145244   \n",
       "1   2648.53  1.45285  0.180770    -1.29897  ...    -0.099681    -0.369707   \n",
       "2   2646.56  1.36261  0.074500    -1.22929  ...     1.994440     0.225706   \n",
       "3   2645.41  1.36578  0.070126    -1.23148  ...     0.858163    -1.931000   \n",
       "4   2645.38  1.42314  0.095054    -1.27339  ...     0.802949    -0.488923   \n",
       "\n",
       "   y_hat[1493]  y_hat[1494]  y_hat[1495]  y_hat[1496]  y_hat[1497]  \\\n",
       "0     0.478559     1.068030    -0.444003    -0.685142     0.581127   \n",
       "1    -1.942630    -0.317986     0.886325     1.777810     0.624710   \n",
       "2    -0.919658    -1.253870    -0.337841    -1.546880     0.361574   \n",
       "3     1.500740     1.023970    -1.281010     0.615988     1.724110   \n",
       "4    -0.001912    -0.189812    -1.320940    -3.783970    -0.909650   \n",
       "\n",
       "   y_hat[1498]  y_hat[1499]  y_hat[1500]  \n",
       "0    -2.553420     1.465520    -1.066990  \n",
       "1    -2.624180    -0.862788     0.257029  \n",
       "2    -0.911629    -0.264605    -1.204030  \n",
       "3     1.185900     1.827580     0.856679  \n",
       "4     0.177514    -1.217240    -3.853660  \n",
       "\n",
       "[5 rows x 3009 columns]"
      ]
     },
     "execution_count": 29,
     "metadata": {},
     "output_type": "execute_result"
    }
   ],
   "source": [
    "d_3 = sim_3.draws_pd()\n",
    "d_3.head()"
   ]
  },
  {
   "cell_type": "code",
   "execution_count": 30,
   "metadata": {},
   "outputs": [
    {
     "data": {
      "text/html": [
       "<div>\n",
       "<style scoped>\n",
       "    .dataframe tbody tr th:only-of-type {\n",
       "        vertical-align: middle;\n",
       "    }\n",
       "\n",
       "    .dataframe tbody tr th {\n",
       "        vertical-align: top;\n",
       "    }\n",
       "\n",
       "    .dataframe thead th {\n",
       "        text-align: right;\n",
       "    }\n",
       "</style>\n",
       "<table border=\"1\" class=\"dataframe\">\n",
       "  <thead>\n",
       "    <tr style=\"text-align: right;\">\n",
       "      <th></th>\n",
       "      <th>lp__</th>\n",
       "      <th>accept_stat__</th>\n",
       "      <th>stepsize__</th>\n",
       "      <th>treedepth__</th>\n",
       "      <th>n_leapfrog__</th>\n",
       "      <th>divergent__</th>\n",
       "      <th>energy__</th>\n",
       "      <th>sigma</th>\n",
       "      <th>mu</th>\n",
       "      <th>nu</th>\n",
       "      <th>...</th>\n",
       "      <th>y_hat[1491]</th>\n",
       "      <th>y_hat[1492]</th>\n",
       "      <th>y_hat[1493]</th>\n",
       "      <th>y_hat[1494]</th>\n",
       "      <th>y_hat[1495]</th>\n",
       "      <th>y_hat[1496]</th>\n",
       "      <th>y_hat[1497]</th>\n",
       "      <th>y_hat[1498]</th>\n",
       "      <th>y_hat[1499]</th>\n",
       "      <th>y_hat[1500]</th>\n",
       "    </tr>\n",
       "  </thead>\n",
       "  <tbody>\n",
       "    <tr>\n",
       "      <th>0</th>\n",
       "      <td>-3531.56</td>\n",
       "      <td>0.994962</td>\n",
       "      <td>0.78712</td>\n",
       "      <td>2.0</td>\n",
       "      <td>3.0</td>\n",
       "      <td>0.0</td>\n",
       "      <td>3531.82</td>\n",
       "      <td>2.51354</td>\n",
       "      <td>0.023499</td>\n",
       "      <td>38.8528</td>\n",
       "      <td>...</td>\n",
       "      <td>-1.556000</td>\n",
       "      <td>3.247710</td>\n",
       "      <td>1.156910</td>\n",
       "      <td>1.23405</td>\n",
       "      <td>-1.830890</td>\n",
       "      <td>2.097510</td>\n",
       "      <td>0.381912</td>\n",
       "      <td>-1.832880</td>\n",
       "      <td>-0.039012</td>\n",
       "      <td>1.34068</td>\n",
       "    </tr>\n",
       "    <tr>\n",
       "      <th>1</th>\n",
       "      <td>-3532.44</td>\n",
       "      <td>0.900402</td>\n",
       "      <td>0.78712</td>\n",
       "      <td>2.0</td>\n",
       "      <td>3.0</td>\n",
       "      <td>0.0</td>\n",
       "      <td>3532.96</td>\n",
       "      <td>2.47690</td>\n",
       "      <td>0.085339</td>\n",
       "      <td>35.0570</td>\n",
       "      <td>...</td>\n",
       "      <td>1.517580</td>\n",
       "      <td>-0.629981</td>\n",
       "      <td>-0.911947</td>\n",
       "      <td>4.60016</td>\n",
       "      <td>0.953356</td>\n",
       "      <td>1.042370</td>\n",
       "      <td>-1.349210</td>\n",
       "      <td>-5.783900</td>\n",
       "      <td>-4.567680</td>\n",
       "      <td>-2.36313</td>\n",
       "    </tr>\n",
       "    <tr>\n",
       "      <th>2</th>\n",
       "      <td>-3535.34</td>\n",
       "      <td>0.685403</td>\n",
       "      <td>0.78712</td>\n",
       "      <td>2.0</td>\n",
       "      <td>7.0</td>\n",
       "      <td>0.0</td>\n",
       "      <td>3536.17</td>\n",
       "      <td>2.40517</td>\n",
       "      <td>0.113662</td>\n",
       "      <td>50.4697</td>\n",
       "      <td>...</td>\n",
       "      <td>-3.144810</td>\n",
       "      <td>-1.024390</td>\n",
       "      <td>0.678101</td>\n",
       "      <td>5.38017</td>\n",
       "      <td>0.835382</td>\n",
       "      <td>0.560447</td>\n",
       "      <td>0.161028</td>\n",
       "      <td>-3.102790</td>\n",
       "      <td>-2.245530</td>\n",
       "      <td>-1.42668</td>\n",
       "    </tr>\n",
       "    <tr>\n",
       "      <th>3</th>\n",
       "      <td>-3533.83</td>\n",
       "      <td>1.000000</td>\n",
       "      <td>0.78712</td>\n",
       "      <td>2.0</td>\n",
       "      <td>3.0</td>\n",
       "      <td>0.0</td>\n",
       "      <td>3536.06</td>\n",
       "      <td>2.49008</td>\n",
       "      <td>0.021226</td>\n",
       "      <td>20.4024</td>\n",
       "      <td>...</td>\n",
       "      <td>-2.071920</td>\n",
       "      <td>1.145810</td>\n",
       "      <td>-1.511170</td>\n",
       "      <td>3.93878</td>\n",
       "      <td>-1.379530</td>\n",
       "      <td>1.498580</td>\n",
       "      <td>1.446150</td>\n",
       "      <td>-2.079810</td>\n",
       "      <td>4.879420</td>\n",
       "      <td>0.01753</td>\n",
       "    </tr>\n",
       "    <tr>\n",
       "      <th>4</th>\n",
       "      <td>-3531.65</td>\n",
       "      <td>0.781818</td>\n",
       "      <td>0.78712</td>\n",
       "      <td>2.0</td>\n",
       "      <td>3.0</td>\n",
       "      <td>0.0</td>\n",
       "      <td>3535.84</td>\n",
       "      <td>2.48565</td>\n",
       "      <td>0.027605</td>\n",
       "      <td>53.7178</td>\n",
       "      <td>...</td>\n",
       "      <td>-0.006014</td>\n",
       "      <td>-1.837360</td>\n",
       "      <td>0.595451</td>\n",
       "      <td>-6.11081</td>\n",
       "      <td>0.346123</td>\n",
       "      <td>-1.082100</td>\n",
       "      <td>-2.629160</td>\n",
       "      <td>0.802051</td>\n",
       "      <td>-0.160201</td>\n",
       "      <td>-3.63169</td>\n",
       "    </tr>\n",
       "  </tbody>\n",
       "</table>\n",
       "<p>5 rows × 3010 columns</p>\n",
       "</div>"
      ],
      "text/plain": [
       "      lp__  accept_stat__  stepsize__  treedepth__  n_leapfrog__  divergent__  \\\n",
       "0 -3531.56       0.994962     0.78712          2.0           3.0          0.0   \n",
       "1 -3532.44       0.900402     0.78712          2.0           3.0          0.0   \n",
       "2 -3535.34       0.685403     0.78712          2.0           7.0          0.0   \n",
       "3 -3533.83       1.000000     0.78712          2.0           3.0          0.0   \n",
       "4 -3531.65       0.781818     0.78712          2.0           3.0          0.0   \n",
       "\n",
       "   energy__    sigma        mu       nu  ...  y_hat[1491]  y_hat[1492]  \\\n",
       "0   3531.82  2.51354  0.023499  38.8528  ...    -1.556000     3.247710   \n",
       "1   3532.96  2.47690  0.085339  35.0570  ...     1.517580    -0.629981   \n",
       "2   3536.17  2.40517  0.113662  50.4697  ...    -3.144810    -1.024390   \n",
       "3   3536.06  2.49008  0.021226  20.4024  ...    -2.071920     1.145810   \n",
       "4   3535.84  2.48565  0.027605  53.7178  ...    -0.006014    -1.837360   \n",
       "\n",
       "   y_hat[1493]  y_hat[1494]  y_hat[1495]  y_hat[1496]  y_hat[1497]  \\\n",
       "0     1.156910      1.23405    -1.830890     2.097510     0.381912   \n",
       "1    -0.911947      4.60016     0.953356     1.042370    -1.349210   \n",
       "2     0.678101      5.38017     0.835382     0.560447     0.161028   \n",
       "3    -1.511170      3.93878    -1.379530     1.498580     1.446150   \n",
       "4     0.595451     -6.11081     0.346123    -1.082100    -2.629160   \n",
       "\n",
       "   y_hat[1498]  y_hat[1499]  y_hat[1500]  \n",
       "0    -1.832880    -0.039012      1.34068  \n",
       "1    -5.783900    -4.567680     -2.36313  \n",
       "2    -3.102790    -2.245530     -1.42668  \n",
       "3    -2.079810     4.879420      0.01753  \n",
       "4     0.802051    -0.160201     -3.63169  \n",
       "\n",
       "[5 rows x 3010 columns]"
      ]
     },
     "execution_count": 30,
     "metadata": {},
     "output_type": "execute_result"
    }
   ],
   "source": [
    "d_4 = sim_4.draws_pd()\n",
    "d_4.head()"
   ]
  },
  {
   "cell_type": "code",
   "execution_count": 59,
   "metadata": {},
   "outputs": [
    {
     "name": "stderr",
     "output_type": "stream",
     "text": [
      "/usr/local/lib/python3.9/site-packages/arviz/stats/stats.py:811: UserWarning: Estimated shape parameter of Pareto distribution is greater than 0.7 for one or more samples. You should consider using a more robust model, this is because importance sampling is less likely to work well if the marginal posterior and LOO posterior are very different. This is more likely to happen with a non-robust model and highly influential observations.\n",
      "  warnings.warn(\n"
     ]
    },
    {
     "data": {
      "text/html": [
       "<div>\n",
       "<style scoped>\n",
       "    .dataframe tbody tr th:only-of-type {\n",
       "        vertical-align: middle;\n",
       "    }\n",
       "\n",
       "    .dataframe tbody tr th {\n",
       "        vertical-align: top;\n",
       "    }\n",
       "\n",
       "    .dataframe thead th {\n",
       "        text-align: right;\n",
       "    }\n",
       "</style>\n",
       "<table border=\"1\" class=\"dataframe\">\n",
       "  <thead>\n",
       "    <tr style=\"text-align: right;\">\n",
       "      <th></th>\n",
       "      <th>rank</th>\n",
       "      <th>loo</th>\n",
       "      <th>p_loo</th>\n",
       "      <th>d_loo</th>\n",
       "      <th>weight</th>\n",
       "      <th>se</th>\n",
       "      <th>dse</th>\n",
       "      <th>warning</th>\n",
       "      <th>loo_scale</th>\n",
       "    </tr>\n",
       "  </thead>\n",
       "  <tbody>\n",
       "    <tr>\n",
       "      <th>Normal model</th>\n",
       "      <td>0</td>\n",
       "      <td>5314.635332</td>\n",
       "      <td>28.376346</td>\n",
       "      <td>0.000000</td>\n",
       "      <td>0.999512</td>\n",
       "      <td>294.342021</td>\n",
       "      <td>0.000000</td>\n",
       "      <td>True</td>\n",
       "      <td>deviance</td>\n",
       "    </tr>\n",
       "    <tr>\n",
       "      <th>Student model</th>\n",
       "      <td>1</td>\n",
       "      <td>7062.255633</td>\n",
       "      <td>1.925836</td>\n",
       "      <td>1747.620301</td>\n",
       "      <td>0.000488</td>\n",
       "      <td>53.114515</td>\n",
       "      <td>299.709676</td>\n",
       "      <td>False</td>\n",
       "      <td>deviance</td>\n",
       "    </tr>\n",
       "  </tbody>\n",
       "</table>\n",
       "</div>"
      ],
      "text/plain": [
       "               rank          loo      p_loo        d_loo    weight  \\\n",
       "Normal model      0  5314.635332  28.376346     0.000000  0.999512   \n",
       "Student model     1  7062.255633   1.925836  1747.620301  0.000488   \n",
       "\n",
       "                       se         dse  warning loo_scale  \n",
       "Normal model   294.342021    0.000000     True  deviance  \n",
       "Student model   53.114515  299.709676    False  deviance  "
      ]
     },
     "execution_count": 59,
     "metadata": {},
     "output_type": "execute_result"
    }
   ],
   "source": [
    "loo = az.compare({\"Normal model\": az.from_cmdstanpy(sim_3), \"Student model\": az.from_cmdstanpy(sim_4)}, ic=\"loo\", scale=\"deviance\")\n",
    "loo"
   ]
  },
  {
   "cell_type": "code",
   "execution_count": 60,
   "metadata": {},
   "outputs": [
    {
     "data": {
      "image/png": "[encoded data removed]",
      "text/plain": [
       "<Figure size 432x144 with 1 Axes>"
      ]
     },
     "metadata": {
      "needs_background": "light"
     },
     "output_type": "display_data"
    }
   ],
   "source": [
    "az.plot_compare(loo)\n",
    "plt.title(\"loo\")\n",
    "plt.show()"
   ]
  },
  {
   "cell_type": "code",
   "execution_count": 61,
   "metadata": {},
   "outputs": [
    {
     "name": "stderr",
     "output_type": "stream",
     "text": [
      "/usr/local/lib/python3.9/site-packages/arviz/stats/stats.py:1635: UserWarning: For one or more samples the posterior variance of the log predictive densities exceeds 0.4. This could be indication of WAIC starting to fail. \n",
      "See http://arxiv.org/abs/1507.04544 for details\n",
      "  warnings.warn(\n"
     ]
    },
    {
     "data": {
      "text/html": [
       "<div>\n",
       "<style scoped>\n",
       "    .dataframe tbody tr th:only-of-type {\n",
       "        vertical-align: middle;\n",
       "    }\n",
       "\n",
       "    .dataframe tbody tr th {\n",
       "        vertical-align: top;\n",
       "    }\n",
       "\n",
       "    .dataframe thead th {\n",
       "        text-align: right;\n",
       "    }\n",
       "</style>\n",
       "<table border=\"1\" class=\"dataframe\">\n",
       "  <thead>\n",
       "    <tr style=\"text-align: right;\">\n",
       "      <th></th>\n",
       "      <th>rank</th>\n",
       "      <th>waic</th>\n",
       "      <th>p_waic</th>\n",
       "      <th>d_waic</th>\n",
       "      <th>weight</th>\n",
       "      <th>se</th>\n",
       "      <th>dse</th>\n",
       "      <th>warning</th>\n",
       "      <th>waic_scale</th>\n",
       "    </tr>\n",
       "  </thead>\n",
       "  <tbody>\n",
       "    <tr>\n",
       "      <th>Normal model</th>\n",
       "      <td>0</td>\n",
       "      <td>5317.698370</td>\n",
       "      <td>29.907865</td>\n",
       "      <td>0.000000</td>\n",
       "      <td>0.986242</td>\n",
       "      <td>296.088966</td>\n",
       "      <td>0.000000</td>\n",
       "      <td>True</td>\n",
       "      <td>deviance</td>\n",
       "    </tr>\n",
       "    <tr>\n",
       "      <th>Student model</th>\n",
       "      <td>1</td>\n",
       "      <td>7062.255641</td>\n",
       "      <td>1.925841</td>\n",
       "      <td>1744.557272</td>\n",
       "      <td>0.013758</td>\n",
       "      <td>53.114517</td>\n",
       "      <td>301.434313</td>\n",
       "      <td>False</td>\n",
       "      <td>deviance</td>\n",
       "    </tr>\n",
       "  </tbody>\n",
       "</table>\n",
       "</div>"
      ],
      "text/plain": [
       "               rank         waic     p_waic       d_waic    weight  \\\n",
       "Normal model      0  5317.698370  29.907865     0.000000  0.986242   \n",
       "Student model     1  7062.255641   1.925841  1744.557272  0.013758   \n",
       "\n",
       "                       se         dse  warning waic_scale  \n",
       "Normal model   296.088966    0.000000     True   deviance  \n",
       "Student model   53.114517  301.434313    False   deviance  "
      ]
     },
     "execution_count": 61,
     "metadata": {},
     "output_type": "execute_result"
    }
   ],
   "source": [
    "waic = az.compare({\"Normal model\": az.from_cmdstanpy(sim_3), \"Student model\": az.from_cmdstanpy(sim_4)}, ic=\"waic\", scale=\"deviance\")\n",
    "waic"
   ]
  },
  {
   "cell_type": "code",
   "execution_count": 65,
   "metadata": {},
   "outputs": [
    {
     "data": {
      "image/png": "[encoded data removed]",
      "text/plain": [
       "<Figure size 432x144 with 1 Axes>"
      ]
     },
     "metadata": {
      "needs_background": "light"
     },
     "output_type": "display_data"
    }
   ],
   "source": [
    "az.plot_compare(waic)\n",
    "plt.title(\"waic\")\n",
    "plt.show()"
   ]
  },
  {
   "attachments": {},
   "cell_type": "markdown",
   "metadata": {},
   "source": [
    "Normal model has a better accuracy."
   ]
  },
  {
   "attachments": {},
   "cell_type": "markdown",
   "metadata": {},
   "source": [
    "# Excercise 3 - compare models with different numbers of predictors"
   ]
  },
  {
   "cell_type": "code",
   "execution_count": 45,
   "metadata": {},
   "outputs": [
    {
     "name": "stderr",
     "output_type": "stream",
     "text": [
      "INFO:cmdstanpy:compiling stan file /home/lab_6/code_5.stan to exe file /home/lab_6/code_5\n",
      "INFO:cmdstanpy:compiled model executable: /home/lab_6/code_5\n"
     ]
    }
   ],
   "source": [
    "model_5 = CmdStanModel(stan_file='code_5.stan')"
   ]
  },
  {
   "cell_type": "code",
   "execution_count": 50,
   "metadata": {},
   "outputs": [],
   "source": [
    "data_sim_5_1 = {'N':N, 'K': 1, 'y': d_2.loc[:, 'y[1]': f'y[{N}]'].values.reshape((N,)), 'X': d_2.loc[:, 'X[1,1]':f'X[{N},1]'].values.reshape((N, 1))}\n",
    "data_sim_5_2 = {'N':N, 'K': 2, 'y': d_2.loc[:, 'y[1]': f'y[{N}]'].values.reshape((N,)), 'X': d_2.loc[:, 'X[1,1]':f'X[{N},2]'].values.reshape((N, 2))}\n",
    "data_sim_5_3 = {'N':N, 'K': 3, 'y': d_2.loc[:, 'y[1]': f'y[{N}]'].values.reshape((N,)), 'X': d_2.loc[:, 'X[1,1]':f'X[{N},3]'].values.reshape((N, 3))}"
   ]
  },
  {
   "cell_type": "code",
   "execution_count": 51,
   "metadata": {},
   "outputs": [
    {
     "name": "stderr",
     "output_type": "stream",
     "text": [
      "INFO:cmdstanpy:CmdStan start processing\n",
      "chain 1 |\u001b[33m          \u001b[0m| 00:00 Status\n",
      "\u001b[A\n",
      "\n",
      "chain 1 |\u001b[33m██▎       \u001b[0m| 00:00 Iteration:  300 / 2000 [ 15%]  (Warmup)\n",
      "\n",
      "\u001b[A\u001b[A\n",
      "chain 1 |\u001b[34m█████▉    \u001b[0m| 00:00 Iteration: 1001 / 2000 [ 50%]  (Sampling)\n",
      "\u001b[A\n",
      "\n",
      "chain 1 |\u001b[34m███████▋  \u001b[0m| 00:01 Iteration: 1400 / 2000 [ 70%]  (Sampling)\n",
      "\n",
      "\u001b[A\u001b[A\n",
      "chain 1 |\u001b[34m█████████ \u001b[0m| 00:01 Iteration: 1700 / 2000 [ 85%]  (Sampling)\n",
      "\u001b[A\n",
      "\n",
      "chain 1 |\u001b[34m██████████\u001b[0m| 00:01 Iteration: 1900 / 2000 [ 95%]  (Sampling)\n",
      "\u001b[A\n",
      "\n",
      "chain 1 |\u001b[34m██████████\u001b[0m| 00:01 Sampling completed                       \n",
      "chain 2 |\u001b[34m██████████\u001b[0m| 00:01 Sampling completed                       \n",
      "chain 3 |\u001b[34m██████████\u001b[0m| 00:01 Sampling completed                       \n",
      "chain 4 |\u001b[34m██████████\u001b[0m| 00:01 Sampling completed                       "
     ]
    },
    {
     "name": "stdout",
     "output_type": "stream",
     "text": [
      "                                                                                                                                                                                                                                                                                                                                "
     ]
    },
    {
     "name": "stderr",
     "output_type": "stream",
     "text": [
      "\n",
      "INFO:cmdstanpy:CmdStan done processing.\n"
     ]
    },
    {
     "name": "stdout",
     "output_type": "stream",
     "text": [
      "\n"
     ]
    },
    {
     "name": "stderr",
     "output_type": "stream",
     "text": [
      "INFO:cmdstanpy:CmdStan start processing\n",
      "chain 1 |\u001b[33m          \u001b[0m| 00:00 Status\n",
      "\u001b[A\n",
      "\n",
      "chain 1 |\u001b[33m█▎        \u001b[0m| 00:00 Iteration:  100 / 2000 [  5%]  (Warmup)\n",
      "\n",
      "\u001b[A\u001b[A\n",
      "chain 1 |\u001b[33m████      \u001b[0m| 00:00 Iteration:  700 / 2000 [ 35%]  (Warmup)\n",
      "\n",
      "\u001b[A\u001b[A\n",
      "chain 1 |\u001b[34m██████▎   \u001b[0m| 00:00 Iteration: 1100 / 2000 [ 55%]  (Sampling)\n",
      "\u001b[A\n",
      "\n",
      "chain 1 |\u001b[34m████████▏ \u001b[0m| 00:01 Iteration: 1500 / 2000 [ 75%]  (Sampling)\n",
      "chain 1 |\u001b[34m█████████▌\u001b[0m| 00:01 Iteration: 1800 / 2000 [ 90%]  (Sampling)\n",
      "\n",
      "chain 1 |\u001b[34m██████████\u001b[0m| 00:02 Sampling completed                       \n",
      "chain 2 |\u001b[34m██████████\u001b[0m| 00:02 Sampling completed                       \n",
      "chain 3 |\u001b[34m██████████\u001b[0m| 00:02 Sampling completed                       \n",
      "chain 4 |\u001b[34m██████████\u001b[0m| 00:02 Sampling completed                       "
     ]
    },
    {
     "name": "stdout",
     "output_type": "stream",
     "text": [
      "                                                                                                                                                                                                                                                                                                                                "
     ]
    },
    {
     "name": "stderr",
     "output_type": "stream",
     "text": [
      "\n",
      "INFO:cmdstanpy:CmdStan done processing.\n"
     ]
    },
    {
     "name": "stdout",
     "output_type": "stream",
     "text": [
      "\n"
     ]
    },
    {
     "name": "stderr",
     "output_type": "stream",
     "text": [
      "INFO:cmdstanpy:CmdStan start processing\n",
      "chain 1 |\u001b[33m          \u001b[0m| 00:00 Status\n",
      "\u001b[A\n",
      "\n",
      "chain 1 |\u001b[33m█▎        \u001b[0m| 00:00 Iteration:  100 / 2000 [  5%]  (Warmup)\n",
      "\u001b[A\n",
      "\n",
      "chain 1 |\u001b[33m████▌     \u001b[0m| 00:00 Iteration:  800 / 2000 [ 40%]  (Warmup)\n",
      "\u001b[A\n",
      "\n",
      "chain 1 |\u001b[34m██████▊   \u001b[0m| 00:00 Iteration: 1200 / 2000 [ 60%]  (Sampling)\n",
      "\n",
      "\u001b[A\u001b[A\n",
      "chain 1 |\u001b[34m████████▋ \u001b[0m| 00:01 Iteration: 1600 / 2000 [ 80%]  (Sampling)\n",
      "\u001b[A\n",
      "\n",
      "chain 1 |\u001b[34m██████████\u001b[0m| 00:02 Sampling completed                       \n",
      "chain 2 |\u001b[34m██████████\u001b[0m| 00:02 Sampling completed                       \n",
      "chain 3 |\u001b[34m██████████\u001b[0m| 00:02 Sampling completed                       \n",
      "chain 4 |\u001b[34m██████████\u001b[0m| 00:02 Sampling completed                       "
     ]
    },
    {
     "name": "stdout",
     "output_type": "stream",
     "text": [
      "                                                                                                                                                                                                                                                                                                                                "
     ]
    },
    {
     "name": "stderr",
     "output_type": "stream",
     "text": [
      "\n",
      "INFO:cmdstanpy:CmdStan done processing.\n"
     ]
    },
    {
     "name": "stdout",
     "output_type": "stream",
     "text": [
      "\n"
     ]
    }
   ],
   "source": [
    "sim_5_1 = model_5.sample(data=data_sim_5_1, seed=28052020)\n",
    "sim_5_2 = model_5.sample(data=data_sim_5_2, seed=28052020)\n",
    "sim_5_3 = model_5.sample(data=data_sim_5_3, seed=28052020)"
   ]
  },
  {
   "cell_type": "code",
   "execution_count": 53,
   "metadata": {},
   "outputs": [
    {
     "data": {
      "text/html": [
       "<div>\n",
       "<style scoped>\n",
       "    .dataframe tbody tr th:only-of-type {\n",
       "        vertical-align: middle;\n",
       "    }\n",
       "\n",
       "    .dataframe tbody tr th {\n",
       "        vertical-align: top;\n",
       "    }\n",
       "\n",
       "    .dataframe thead th {\n",
       "        text-align: right;\n",
       "    }\n",
       "</style>\n",
       "<table border=\"1\" class=\"dataframe\">\n",
       "  <thead>\n",
       "    <tr style=\"text-align: right;\">\n",
       "      <th></th>\n",
       "      <th>rank</th>\n",
       "      <th>loo</th>\n",
       "      <th>p_loo</th>\n",
       "      <th>d_loo</th>\n",
       "      <th>weight</th>\n",
       "      <th>se</th>\n",
       "      <th>dse</th>\n",
       "      <th>warning</th>\n",
       "      <th>loo_scale</th>\n",
       "    </tr>\n",
       "  </thead>\n",
       "  <tbody>\n",
       "    <tr>\n",
       "      <th>K=1</th>\n",
       "      <td>0</td>\n",
       "      <td>5519.241191</td>\n",
       "      <td>1.788478</td>\n",
       "      <td>0.000000</td>\n",
       "      <td>1.000000e+00</td>\n",
       "      <td>51.535337</td>\n",
       "      <td>0.000000</td>\n",
       "      <td>False</td>\n",
       "      <td>deviance</td>\n",
       "    </tr>\n",
       "    <tr>\n",
       "      <th>K=2</th>\n",
       "      <td>1</td>\n",
       "      <td>7056.913124</td>\n",
       "      <td>2.995534</td>\n",
       "      <td>1537.671934</td>\n",
       "      <td>0.000000e+00</td>\n",
       "      <td>52.807612</td>\n",
       "      <td>58.645970</td>\n",
       "      <td>False</td>\n",
       "      <td>deviance</td>\n",
       "    </tr>\n",
       "    <tr>\n",
       "      <th>K=3</th>\n",
       "      <td>2</td>\n",
       "      <td>7061.596032</td>\n",
       "      <td>3.858108</td>\n",
       "      <td>1542.354841</td>\n",
       "      <td>2.919887e-14</td>\n",
       "      <td>52.524369</td>\n",
       "      <td>58.524526</td>\n",
       "      <td>False</td>\n",
       "      <td>deviance</td>\n",
       "    </tr>\n",
       "  </tbody>\n",
       "</table>\n",
       "</div>"
      ],
      "text/plain": [
       "     rank          loo     p_loo        d_loo        weight         se  \\\n",
       "K=1     0  5519.241191  1.788478     0.000000  1.000000e+00  51.535337   \n",
       "K=2     1  7056.913124  2.995534  1537.671934  0.000000e+00  52.807612   \n",
       "K=3     2  7061.596032  3.858108  1542.354841  2.919887e-14  52.524369   \n",
       "\n",
       "           dse  warning loo_scale  \n",
       "K=1   0.000000    False  deviance  \n",
       "K=2  58.645970    False  deviance  \n",
       "K=3  58.524526    False  deviance  "
      ]
     },
     "execution_count": 53,
     "metadata": {},
     "output_type": "execute_result"
    }
   ],
   "source": [
    "loo = az.compare({\"K=1\": az.from_cmdstanpy(sim_5_1), \"K=2\": az.from_cmdstanpy(sim_5_2), \"K=3\": az.from_cmdstanpy(sim_5_3)}, ic=\"loo\", scale=\"deviance\")\n",
    "loo"
   ]
  },
  {
   "cell_type": "code",
   "execution_count": 58,
   "metadata": {},
   "outputs": [
    {
     "data": {
      "image/png": "[encoded data removed]",
      "text/plain": [
       "<Figure size 432x216 with 1 Axes>"
      ]
     },
     "metadata": {
      "needs_background": "light"
     },
     "output_type": "display_data"
    }
   ],
   "source": [
    "az.plot_compare(loo)\n",
    "plt.title(\"loo\")\n",
    "plt.show()"
   ]
  },
  {
   "cell_type": "code",
   "execution_count": 55,
   "metadata": {},
   "outputs": [
    {
     "data": {
      "text/html": [
       "<div>\n",
       "<style scoped>\n",
       "    .dataframe tbody tr th:only-of-type {\n",
       "        vertical-align: middle;\n",
       "    }\n",
       "\n",
       "    .dataframe tbody tr th {\n",
       "        vertical-align: top;\n",
       "    }\n",
       "\n",
       "    .dataframe thead th {\n",
       "        text-align: right;\n",
       "    }\n",
       "</style>\n",
       "<table border=\"1\" class=\"dataframe\">\n",
       "  <thead>\n",
       "    <tr style=\"text-align: right;\">\n",
       "      <th></th>\n",
       "      <th>rank</th>\n",
       "      <th>waic</th>\n",
       "      <th>p_waic</th>\n",
       "      <th>d_waic</th>\n",
       "      <th>weight</th>\n",
       "      <th>se</th>\n",
       "      <th>dse</th>\n",
       "      <th>warning</th>\n",
       "      <th>waic_scale</th>\n",
       "    </tr>\n",
       "  </thead>\n",
       "  <tbody>\n",
       "    <tr>\n",
       "      <th>K=1</th>\n",
       "      <td>0</td>\n",
       "      <td>5519.241254</td>\n",
       "      <td>1.788510</td>\n",
       "      <td>0.000000</td>\n",
       "      <td>1.000000e+00</td>\n",
       "      <td>51.535345</td>\n",
       "      <td>0.000000</td>\n",
       "      <td>False</td>\n",
       "      <td>deviance</td>\n",
       "    </tr>\n",
       "    <tr>\n",
       "      <th>K=2</th>\n",
       "      <td>1</td>\n",
       "      <td>7056.912655</td>\n",
       "      <td>2.995300</td>\n",
       "      <td>1537.671401</td>\n",
       "      <td>1.455920e-13</td>\n",
       "      <td>52.807573</td>\n",
       "      <td>58.645947</td>\n",
       "      <td>False</td>\n",
       "      <td>deviance</td>\n",
       "    </tr>\n",
       "    <tr>\n",
       "      <th>K=3</th>\n",
       "      <td>2</td>\n",
       "      <td>7061.595841</td>\n",
       "      <td>3.858013</td>\n",
       "      <td>1542.354587</td>\n",
       "      <td>0.000000e+00</td>\n",
       "      <td>52.524360</td>\n",
       "      <td>58.524517</td>\n",
       "      <td>False</td>\n",
       "      <td>deviance</td>\n",
       "    </tr>\n",
       "  </tbody>\n",
       "</table>\n",
       "</div>"
      ],
      "text/plain": [
       "     rank         waic    p_waic       d_waic        weight         se  \\\n",
       "K=1     0  5519.241254  1.788510     0.000000  1.000000e+00  51.535345   \n",
       "K=2     1  7056.912655  2.995300  1537.671401  1.455920e-13  52.807573   \n",
       "K=3     2  7061.595841  3.858013  1542.354587  0.000000e+00  52.524360   \n",
       "\n",
       "           dse  warning waic_scale  \n",
       "K=1   0.000000    False   deviance  \n",
       "K=2  58.645947    False   deviance  \n",
       "K=3  58.524517    False   deviance  "
      ]
     },
     "execution_count": 55,
     "metadata": {},
     "output_type": "execute_result"
    }
   ],
   "source": [
    "waic = az.compare({\"K=1\": az.from_cmdstanpy(sim_5_1), \"K=2\": az.from_cmdstanpy(sim_5_2), \"K=3\": az.from_cmdstanpy(sim_5_3)}, ic=\"waic\", scale=\"deviance\")\n",
    "waic"
   ]
  },
  {
   "cell_type": "code",
   "execution_count": 57,
   "metadata": {},
   "outputs": [
    {
     "data": {
      "image/png": "[encoded data removed]",
      "text/plain": [
       "<Figure size 432x216 with 1 Axes>"
      ]
     },
     "metadata": {
      "needs_background": "light"
     },
     "output_type": "display_data"
    }
   ],
   "source": [
    "az.plot_compare(waic)\n",
    "plt.title(\"waic\")\n",
    "plt.show()"
   ]
  },
  {
   "attachments": {},
   "cell_type": "markdown",
   "metadata": {},
   "source": [
    "K=1 has the best accuracy."
   ]
  },
  {
   "cell_type": "markdown",
   "metadata": {},
   "source": []
  }
 ],
 "metadata": {
  "kernelspec": {
   "display_name": "Python 3",
   "language": "python",
   "name": "python3"
  },
  "language_info": {
   "codemirror_mode": {
    "name": "ipython",
    "version": 3
   },
   "file_extension": ".py",
   "mimetype": "text/x-python",
   "name": "python",
   "nbconvert_exporter": "python",
   "pygments_lexer": "ipython3",
   "version": "3.9.11"
  },
  "orig_nbformat": 4
 },
 "nbformat": 4,
 "nbformat_minor": 2
}
